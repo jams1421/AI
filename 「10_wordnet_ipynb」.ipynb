{
  "nbformat": 4,
  "nbformat_minor": 0,
  "metadata": {
    "colab": {
      "provenance": []
    },
    "kernelspec": {
      "name": "python3",
      "display_name": "Python 3"
    },
    "language_info": {
      "name": "python"
    }
  },
  "cells": [
    {
      "cell_type": "markdown",
      "source": [
        "# 中文wordnet\n",
        "完整用法：https://github.com/lopentu/CwnGraph\n",
        "\n",
        "- 早期利用字詞表達文章的用法，可以透過查詢wordnet，找出查詢字跟那些字有關係。\n",
        "- wordnet是透過人工的方式，建立起字詞之間的關係\n",
        "- 本範例介紹中文的wordnet，查詢\"頭\"這個字，看有多少跟\"頭\"相關的字詞\n",
        "- 另外介紹英文的wordnet，查詢跟\"dog\"相似的字詞"
      ],
      "metadata": {
        "id": "NLZPCMu0_SMu"
      }
    },
    {
      "cell_type": "code",
      "source": [
        "!pip install CwnGraph"
      ],
      "metadata": {
        "id": "2E02jlhZ8rr7",
        "outputId": "a7720d5f-49b0-4cff-868e-85674af762df",
        "colab": {
          "base_uri": "https://localhost:8080/"
        }
      },
      "execution_count": null,
      "outputs": [
        {
          "output_type": "stream",
          "name": "stdout",
          "text": [
            "Collecting CwnGraph\n",
            "  Downloading CwnGraph-0.4.0-py3-none-any.whl (32 kB)\n",
            "Requirement already satisfied: gdown>=4.4.0 in /usr/local/lib/python3.10/dist-packages (from CwnGraph) (5.1.0)\n",
            "Requirement already satisfied: requests in /usr/local/lib/python3.10/dist-packages (from CwnGraph) (2.31.0)\n",
            "Requirement already satisfied: nltk in /usr/local/lib/python3.10/dist-packages (from CwnGraph) (3.8.1)\n",
            "Requirement already satisfied: beautifulsoup4 in /usr/local/lib/python3.10/dist-packages (from gdown>=4.4.0->CwnGraph) (4.12.3)\n",
            "Requirement already satisfied: filelock in /usr/local/lib/python3.10/dist-packages (from gdown>=4.4.0->CwnGraph) (3.14.0)\n",
            "Requirement already satisfied: tqdm in /usr/local/lib/python3.10/dist-packages (from gdown>=4.4.0->CwnGraph) (4.66.4)\n",
            "Requirement already satisfied: click in /usr/local/lib/python3.10/dist-packages (from nltk->CwnGraph) (8.1.7)\n",
            "Requirement already satisfied: joblib in /usr/local/lib/python3.10/dist-packages (from nltk->CwnGraph) (1.4.2)\n",
            "Requirement already satisfied: regex>=2021.8.3 in /usr/local/lib/python3.10/dist-packages (from nltk->CwnGraph) (2023.12.25)\n",
            "Requirement already satisfied: charset-normalizer<4,>=2 in /usr/local/lib/python3.10/dist-packages (from requests->CwnGraph) (3.3.2)\n",
            "Requirement already satisfied: idna<4,>=2.5 in /usr/local/lib/python3.10/dist-packages (from requests->CwnGraph) (3.7)\n",
            "Requirement already satisfied: urllib3<3,>=1.21.1 in /usr/local/lib/python3.10/dist-packages (from requests->CwnGraph) (2.0.7)\n",
            "Requirement already satisfied: certifi>=2017.4.17 in /usr/local/lib/python3.10/dist-packages (from requests->CwnGraph) (2024.2.2)\n",
            "Requirement already satisfied: soupsieve>1.2 in /usr/local/lib/python3.10/dist-packages (from beautifulsoup4->gdown>=4.4.0->CwnGraph) (2.5)\n",
            "Requirement already satisfied: PySocks!=1.5.7,>=1.5.6 in /usr/local/lib/python3.10/dist-packages (from requests->CwnGraph) (1.7.1)\n",
            "Installing collected packages: CwnGraph\n",
            "Successfully installed CwnGraph-0.4.0\n"
          ]
        }
      ]
    },
    {
      "cell_type": "code",
      "execution_count": null,
      "metadata": {
        "colab": {
          "base_uri": "https://localhost:8080/"
        },
        "id": "Kuuu-WmF8M5u",
        "outputId": "4b8c6681-edb7-49e0-9e4f-1f188d4dd968"
      },
      "outputs": [
        {
          "output_type": "execute_result",
          "data": {
            "text/plain": [
              "[<CwnLemma: 雲林_1>,\n",
              " <CwnLemma: 雲_1>,\n",
              " <CwnLemma: 雲_2>,\n",
              " <CwnLemma: 雲_3>,\n",
              " <CwnLemma: 雲_4>,\n",
              " <CwnLemma: 雲門舞集_1>,\n",
              " <CwnLemma: 雲門_1>,\n",
              " <CwnLemma: 雲杉_1>,\n",
              " <CwnLemma: 雲母_1>,\n",
              " <CwnLemma: 白雲石_1>,\n",
              " <CwnLemma: 雲雀_1>,\n",
              " <CwnLemma: 高聳入雲_1>,\n",
              " <CwnLemma: 冠蓋雲集_1>,\n",
              " <CwnLemma: 雲南_1>,\n",
              " <CwnLemma: 積雲_1>,\n",
              " <CwnLemma: 積雨雲_1>,\n",
              " <CwnLemma: 高積雲_1>,\n",
              " <CwnLemma: 卷雲_1>,\n",
              " <CwnLemma: 高層雲_1>,\n",
              " <CwnLemma: 雲層_1>,\n",
              " <CwnLemma: 雲梯_1>,\n",
              " <CwnLemma: 星雲_1>,\n",
              " <CwnLemma: 雲梯車_1>,\n",
              " <CwnLemma: 吞雲吐霧_1>]"
            ]
          },
          "metadata": {},
          "execution_count": 6
        }
      ],
      "source": [
        "# 匯入 CwnImage 類別\n",
        "from CwnGraph import CwnImage\n",
        "\n",
        "# 使用 latest() 方法建立 CwnImage 物件，表示使用最新版本的 CwnGraph\n",
        "cwn = CwnImage.latest()\n",
        "\n",
        "# 使用 find_lemma() 方法查詢包含 \"雲\" 字的詞彙\n",
        "lemmas = cwn.find_lemma(\"雲\")\n",
        "\n",
        "# 輸出查詢結果\n",
        "lemmas\n"
      ]
    },
    {
      "cell_type": "markdown",
      "source": [
        "#英文wordnet\n",
        "完整用法：https://www.nltk.org/howto/wordnet.html"
      ],
      "metadata": {
        "id": "13NyCY9p_Hpi"
      }
    },
    {
      "cell_type": "code",
      "source": [
        "# 匯入 NLTK 套件並下載 WordNet 資料\n",
        "import nltk\n",
        "nltk.download('wordnet')\n",
        "\n",
        "# 從 NLTK 中匯入 WordNet\n",
        "from nltk.corpus import wordnet as wn\n",
        "\n",
        "# 使用 synsets() 方法查詢單詞 \"dog\" 的同義詞集\n",
        "wn.synsets('dog')\n"
      ],
      "metadata": {
        "colab": {
          "base_uri": "https://localhost:8080/"
        },
        "id": "aDX0UHsY-dR5",
        "outputId": "834cb72c-cac6-443b-ea86-c7e5c4972253"
      },
      "execution_count": null,
      "outputs": [
        {
          "output_type": "stream",
          "name": "stderr",
          "text": [
            "[nltk_data] Downloading package wordnet to /root/nltk_data...\n"
          ]
        },
        {
          "output_type": "execute_result",
          "data": {
            "text/plain": [
              "[Synset('dog.n.01'),\n",
              " Synset('frump.n.01'),\n",
              " Synset('dog.n.03'),\n",
              " Synset('cad.n.01'),\n",
              " Synset('frank.n.02'),\n",
              " Synset('pawl.n.01'),\n",
              " Synset('andiron.n.01'),\n",
              " Synset('chase.v.01')]"
            ]
          },
          "metadata": {},
          "execution_count": 3
        }
      ]
    }
  ]
}